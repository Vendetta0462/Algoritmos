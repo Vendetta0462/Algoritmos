{
  "cells": [
    {
      "cell_type": "code",
      "execution_count": 69,
      "metadata": {
        "colab": {
          "base_uri": "https://localhost:8080/",
          "height": 890
        },
        "id": "wnH7SjNn_ZfU",
        "outputId": "98134ab9-807f-46cb-ad16-d461642f5a16"
      },
      "outputs": [
        {
          "name": "stdout",
          "output_type": "stream",
          "text": [
            "     x    y\n",
            "0  1.5  200\n",
            "1  2.4  340\n",
            "2  2.1  346\n",
            "3  4.5  400\n",
            "4  1.2  120\n",
            "5  6.5  230\n",
            "6  7.4  120\n",
            "7  8.3    0\n",
            "8  0.0  100\n",
            "9  0.5  129\n",
            "0    1.5\n",
            "1    2.4\n",
            "2    2.1\n",
            "3    4.5\n",
            "4    1.2\n",
            "5    6.5\n",
            "6    7.4\n",
            "7    8.3\n",
            "8    0.0\n",
            "9    0.5\n",
            "Name: x, dtype: float64\n",
            "['1.5', ' 200']\n",
            "['2.4', ' 340']\n",
            "['2.1', ' 346']\n",
            "['4.5', ' 400']\n",
            "['1.2', ' 120']\n",
            "['6.5', ' 230']\n",
            "['7.4', ' 120']\n",
            "['8.3', ' 0']\n",
            "['0.0', ' 100']\n",
            "['0.5', ' 129']\n",
            "200.26000000000002\n",
            "6234.1\n",
            "-7.254284458766682\n",
            "223.4547385381574\n"
          ]
        },
        {
          "data": {
            "image/png": "[encoded data removed]",
            "text/plain": [
              "<Figure size 432x288 with 1 Axes>"
            ]
          },
          "metadata": {
            "needs_background": "light"
          },
          "output_type": "display_data"
        }
      ],
      "source": [
        "from csv import reader\n",
        "import math as m\n",
        "import statistics as stat\n",
        "import os\n",
        "import numpy as np\n",
        "import matplotlib.pyplot as plt\n",
        "import pandas as pd\n",
        "\n",
        "Xi = []\n",
        "Yi = []\n",
        "\n",
        "U = pd.read_csv(\"datos.txt\", names = [\"x\", \"y\"] )\n",
        "\n",
        "print(U)\n",
        "\n",
        "print(U[\"x\"])\n",
        "\n",
        "\n",
        "# importante: cambiar estaturas.txt por el archivo correspondiente\n",
        "with open(\"datos.txt\", 'r') as archivo_lectura:\n",
        "    csv = reader(archivo_lectura)\n",
        "    # ir fila a fila\n",
        "    for linea in csv:\n",
        "        # hacer algo con cada fila, asumo que cada fila tiene un solo valor\n",
        "        print(linea)\n",
        "        Xi.append(float(linea[0]))\n",
        "        Yi.append(float(linea[1]))\n",
        "        ## recordar el split\n",
        "\n",
        "X = np.array(Xi)\n",
        "Y = np.array(Yi)\n",
        "\n",
        "sumx = sum(X)\n",
        "sumy = sum(Y)\n",
        "sumxy = sum(X*Y)\n",
        "sumx2 = sum(X**2)\n",
        "n = len(X)\n",
        "\n",
        "print(sumx2)\n",
        "print(sumxy)\n",
        "\n",
        "A = (n*sumxy - (sumx*sumy)) / (n*sumx2 - sumx**2)\n",
        "B = (sumy - A*sumx) /n\n",
        "\n",
        "X2 = np.linspace(0, 10, n)\n",
        "Y2 = A*X2 + B\n",
        "\n",
        "plt.plot(X, Y, \"ob\")\n",
        "plt.plot(X2, Y2, \"r\")\n",
        "\n",
        "print(A)\n",
        "print(B)\n"
      ]
    },
    {
      "cell_type": "code",
      "execution_count": 86,
      "metadata": {
        "colab": {
          "base_uri": "https://localhost:8080/"
        },
        "id": "H68dW5UJHiGj",
        "outputId": "4d16417e-09b9-4afb-c3dd-148b78319de0"
      },
      "outputs": [
        {
          "name": "stdout",
          "output_type": "stream",
          "text": [
            "Overwriting leerArchivo.cpp\n"
          ]
        }
      ],
      "source": [
        "%%writefile leerArchivo.cpp\n",
        "\n",
        "#include <iostream>\n",
        "#include <fstream>\n",
        "#include <vector>\n",
        "#include <sstream>\n",
        "\n",
        "using namespace std;\n",
        "\n",
        "\n",
        "int main(int argc, char** argv)\n",
        "{\n",
        "    vector<double> X, Y;\n",
        "    string nombre, linea;\n",
        "    nombre = \"datos.txt\";\n",
        "    ifstream archivo;\n",
        "    archivo.open(nombre);\n",
        "    int contLineas = 0;\n",
        "    int n;\n",
        "    if (!archivo)\n",
        "    {\n",
        "        cout << \"Archivo inválido.\";\n",
        "    }\n",
        "    else\n",
        "    {\n",
        "    while (getline(archivo, linea))\n",
        "        {\n",
        "            contLineas++;\n",
        "            // Se imprime la línea completa\n",
        "            cout << \"Linea número \" << contLineas << \" : \" << linea << endl;\n",
        "            // Acá se divide la línea por los separadores\n",
        "        \n",
        "            char separador = ',';\n",
        "            stringstream ssLinea(linea);\n",
        "            string token;\n",
        "            // acá se separa cada linea en los elementos entre los puntos y coma\n",
        "            int cont = 0;\n",
        "            while (getline(ssLinea, token, separador))\n",
        "            {\n",
        "                if (cont == 0) X.push_back(stof(token));\n",
        "                if (cont == 1) Y.push_back(stof(token));\n",
        "                cout << token << endl;\n",
        "                cont++;\n",
        "            } \n",
        "            //listado.push_back(elemento);\n",
        "            // acá se arma el registro entero, es un <<listado>> de <<elementos>>\n",
        "        }\n",
        "\n",
        "    double sumx = 0.0, sumy = 0.0, sumxy = 0.0, sumx2 = 0.0, A, B;\n",
        "    \n",
        "\n",
        "    n = X.size();\n",
        "\n",
        "    for (int i = 0; i < n; i++)\n",
        "    {\n",
        "        sumx = sumx + X[i];\n",
        "        sumy = sumy + Y[i];\n",
        "        sumxy = sumxy + X[i]*Y[i];\n",
        "        sumx2 = sumx2 + X[i]*X[i];\n",
        "    }\n",
        "    A = (n*sumxy - (sumx*sumy)) / (n*sumx2 - sumx*sumx);\n",
        "    B = (sumy - A*sumx) /n;\n",
        "    cout << \"Valor de A: \" << A <<  \" , valor de B: \" << B << std::endl; \n",
        "    cout << \"Escribiendo \" << contLineas << \" registros...\" << endl;\n",
        "    ofstream archivoS;\n",
        "    archivoS.open(\"salida.txt\");\n",
        "    double dx = (10. - 0.) / n;\n",
        "    double valor = 0.0;\n",
        "    for (int i = 0; i < n; i++)\n",
        "    {\n",
        "        valor = A * (i*dx) + B;\n",
        "        archivoS << i*dx << \", \" << valor << endl;\n",
        "    } \n",
        "    }\n",
        "\n",
        "\n",
        "    \n",
        "\n",
        "}"
      ]
    },
    {
      "cell_type": "code",
      "execution_count": 87,
      "metadata": {
        "id": "6hWqmptOMkYc"
      },
      "outputs": [],
      "source": [
        "!g++ -o leerArchivo leerArchivo.cpp"
      ]
    },
    {
      "cell_type": "code",
      "execution_count": 88,
      "metadata": {
        "colab": {
          "base_uri": "https://localhost:8080/"
        },
        "id": "p104OmrsMpgD",
        "outputId": "efad459d-8948-4fea-df56-3245426bfb9c"
      },
      "outputs": [
        {
          "name": "stdout",
          "output_type": "stream",
          "text": [
            "Linea número 1 : 1.5, 200, 2000\r\n",
            "1.5\n",
            " 200\n",
            " 2000\r\n",
            "Linea número 2 : 2.4, 340\r\n",
            "2.4\n",
            " 340\r\n",
            "Linea número 3 : 2.1, 346\r\n",
            "2.1\n",
            " 346\r\n",
            "Linea número 4 : 4.5, 400\r\n",
            "4.5\n",
            " 400\r\n",
            "Linea número 5 : 1.2, 120\r\n",
            "1.2\n",
            " 120\r\n",
            "Linea número 6 : 6.5, 230\r\n",
            "6.5\n",
            " 230\r\n",
            "Linea número 7 : 7.4, 120\r\n",
            "7.4\n",
            " 120\r\n",
            "Linea número 8 : 8.3, 0\r\n",
            "8.3\n",
            " 0\r\n",
            "Linea número 9 : 0.0, 100\r\n",
            "0.0\n",
            " 100\r\n",
            "Linea número 10 : 0.5, 129\n",
            "0.5\n",
            " 129\n",
            "Valor de A: -7.25428 , valor de B: 223.455\n",
            "Escribiendo 10 registros...\n"
          ]
        }
      ],
      "source": [
        "!./leerArchivo"
      ]
    }
  ],
  "metadata": {
    "colab": {
      "provenance": []
    },
    "kernelspec": {
      "display_name": "base",
      "language": "python",
      "name": "python3"
    },
    "language_info": {
      "name": "python",
      "version": "3.9.7 (default, Sep 16 2021, 16:59:28) [MSC v.1916 64 bit (AMD64)]"
    },
    "vscode": {
      "interpreter": {
        "hash": "ad2bdc8ecc057115af97d19610ffacc2b4e99fae6737bb82f5d7fb13d2f2c186"
      }
    }
  },
  "nbformat": 4,
  "nbformat_minor": 0
}
